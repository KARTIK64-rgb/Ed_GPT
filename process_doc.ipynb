{
  "nbformat": 4,
  "nbformat_minor": 0,
  "metadata": {
    "colab": {
      "provenance": [],
      "gpuType": "T4"
    },
    "kernelspec": {
      "name": "python3",
      "display_name": "Python 3"
    },
    "language_info": {
      "name": "python"
    },
    "accelerator": "GPU"
  },
  "cells": [
    {
      "cell_type": "code",
      "execution_count": null,
      "metadata": {
        "id": "iHJLDzaooYSu"
      },
      "outputs": [],
      "source": [
        "!sudo apt install tesseract-ocr -y\n",
        "!sudo apt install libtesseract-dev -y\n",
        "!sudo apt install poppler-utils -y"
      ]
    },
    {
      "cell_type": "code",
      "source": [
        "!pip install langchain unstructured[all-docs] pydantic lxml faiss-cpu google-generativeai"
      ],
      "metadata": {
        "id": "xhgDYIGSor5K"
      },
      "execution_count": null,
      "outputs": []
    },
    {
      "cell_type": "code",
      "source": [
        "!pip install langchain_google_genai"
      ],
      "metadata": {
        "id": "hUsgRXqiotAG"
      },
      "execution_count": null,
      "outputs": []
    },
    {
      "cell_type": "code",
      "source": [
        "%pip install -U langchain-community"
      ],
      "metadata": {
        "id": "HS9Uj0olow1m"
      },
      "execution_count": null,
      "outputs": []
    },
    {
      "cell_type": "code",
      "source": [
        "from langchain_google_genai import ChatGoogleGenerativeAI, GoogleGenerativeAIEmbeddings\n",
        "from langchain.chains import LLMChain\n",
        "from langchain.prompts import PromptTemplate\n",
        "from langchain.schema.messages import HumanMessage, SystemMessage\n",
        "from langchain.schema.document import Document\n",
        "from langchain.vectorstores import FAISS\n",
        "from langchain.retrievers.multi_vector import MultiVectorRetriever\n",
        "from unstructured.partition.pdf import partition_pdf"
      ],
      "metadata": {
        "id": "Ro0oAI-3o0Qs"
      },
      "execution_count": null,
      "outputs": []
    },
    {
      "cell_type": "code",
      "source": [
        "from google.colab import userdata"
      ],
      "metadata": {
        "id": "BJFKPaV9o299"
      },
      "execution_count": null,
      "outputs": []
    },
    {
      "cell_type": "code",
      "source": [
        "gemini_api_key = userdata.get('GOOGLE_API_KEY')"
      ],
      "metadata": {
        "id": "BuWqFnZco9PN"
      },
      "execution_count": null,
      "outputs": []
    },
    {
      "cell_type": "code",
      "source": [
        "output_path=\"./images\""
      ],
      "metadata": {
        "id": "LgTMLy9Eo-Kq"
      },
      "execution_count": null,
      "outputs": []
    },
    {
      "cell_type": "code",
      "source": [
        "raw_pdf_elements = partition_pdf(    //unstructred pdf parser\n",
        "    filename=\"/content/AC-Aids-for-Dogs_Canine-Periodontal-Disease_0.pdf\",\n",
        "    extract_images_in_pdf=True,\n",
        "    infer_table_structure=True,\n",
        "    chunking_strategy=\"by_title\",\n",
        "    max_characters=4000,\n",
        "    new_after_n_chars=3800,\n",
        "    combine_text_under_n_chars=2000,\n",
        "    extract_image_block_output_dir=output_path,\n",
        ")"
      ],
      "metadata": {
        "id": "c-dbMNOdpCyk"
      },
      "execution_count": null,
      "outputs": []
    },
    {
      "cell_type": "code",
      "source": [
        "text_elements=[]\n",
        "table_elements=[]\n",
        "\n",
        "text_summaries =[]\n",
        "table_summaries=[]\n",
        "summary_prompt=\"\"\"\n",
        "Summarize the following {element_type}:\n",
        "{element}\n",
        "\"\"\""
      ],
      "metadata": {
        "id": "O5FOyEkWpZjD"
      },
      "execution_count": null,
      "outputs": []
    },
    {
      "cell_type": "code",
      "source": [
        "\n",
        "summary_chain = LLMChain(\n",
        "    llm=ChatGoogleGenerativeAI(model=\"gemini-pro\", google_api_key=gemini_api_key),\n",
        "    prompt=PromptTemplate.from_template(summary_prompt)\n",
        ")"
      ],
      "metadata": {
        "id": "nrdhcZkM_dP2"
      },
      "execution_count": null,
      "outputs": []
    },
    {
      "cell_type": "code",
      "source": [
        "for e in raw_pdf_elements:\n",
        "    if 'CompositeElement' in repr(e):\n",
        "        text_elements.append(e.text)\n",
        "        summary = summary_chain.run({'element_type': 'text', 'element': e})\n",
        "        text_summaries.append(summary)\n",
        "\n",
        "    elif 'Table' in repr(e):\n",
        "        table_elements.append(e.text)\n",
        "        summary = summary_chain.run({'element_type': 'table', 'element': e})\n",
        "        table_summaries.append(summary)\n"
      ],
      "metadata": {
        "id": "WjQPbDJzGD9P"
      },
      "execution_count": null,
      "outputs": []
    },
    {
      "cell_type": "code",
      "source": [
        "image_elements = []\n",
        "image_summaries = []\n",
        "\n",
        "def encode_image(image_path):\n",
        "  with open(image_path, \"rb\") as f:\n",
        "    return base64.b64encode(f.read()).decode('utf-8')\n",
        "\n",
        "def summarize_image(encoded_image):\n",
        "  prompt = [\n",
        "      SystemMessage(content=\"You are a bot that is good in analyzing image related to Dog's health\"),\n",
        "      HumanMessage(content=[\n",
        "\n",
        "          {\n",
        "              \"type\": \"text\",\n",
        "              \"text\": \"Describe the content of the image.\"\n",
        "          },\n",
        "\n",
        "          {\n",
        "              \"type\": \"image_url\",\n",
        "              \"image_url\": {\n",
        "                  \"url\": f\"data:image/jpeg;base64,{encoded_image}\"\n",
        "              },\n",
        "          },\n",
        "      ])\n",
        "  ]\n",
        "  response = ChatGoogleGenerativeAI(\n",
        "      model=\"gemini-1.5-flash\",\n",
        "      temperature=0.4,\n",
        "      google_api_key=gemini_api_key\n",
        "  ).invoke(prompt)\n",
        "  return response.content\n",
        "\n",
        "for i in os.listdir(output_path):\n",
        "  if i.endswith(('.png', '.jpg', '.jpeg')):\n",
        "    image_path = os.path.join(output_path, i)\n",
        "    encoded_image = encode_image(image_path)\n",
        "    image_elements.append(encoded_image)\n",
        "    summary = summarize_image(encoded_image)\n",
        "    image_summaries.append(summary)\n"
      ],
      "metadata": {
        "id": "4WEKxidbBMwM"
      },
      "execution_count": null,
      "outputs": []
    },
    {
      "cell_type": "code",
      "source": [
        "documents=[]\n",
        "retrieve_contents=[]\n",
        "\n",
        "for e,s in zip(text_elements,text_summaries):\n",
        "  i=str(uuid.uuid4())\n",
        "  doc=Document(\n",
        "      page_content=s,\n",
        "      metadata={\n",
        "          'id' : i,\n",
        "          'type': 'text',\n",
        "          'original_content' : e\n",
        "      }\n",
        "  )\n",
        "  retrieve_contents.append((i,e))\n",
        "  documents.append(doc)\n",
        "\n",
        "for e, s  in zip(table_elements, table_summaries):\n",
        "  doc=Document(\n",
        "      page_content=s,\n",
        "      metadata={\n",
        "          'id' : i,\n",
        "          'type': 'table',\n",
        "          'original_content' : e\n",
        "      }\n",
        "  )\n",
        "  retrieve_contents.append((i, e))\n",
        "  documents.append(doc)\n",
        "\n",
        "for e, s in zip(image_elements, image_summaries):\n",
        "  doc=Document(\n",
        "      page_content=s,\n",
        "      metadata={\n",
        "          'id' : i,\n",
        "          'type': 'image',\n",
        "          'original_content' : e\n",
        "      }\n",
        "  )\n",
        "  retrieve_contents.append((i, e))\n",
        "  documents.append(doc)\n",
        "\n",
        "embedding_model = GoogleGenerativeAIEmbeddings(\n",
        "    model=\"models/embedding-001\",\n",
        "    google_api_key=gemini_api_key\n",
        ")\n",
        "\n",
        "vectorstore = FAISS.from_documents(documents, embedding=embedding_model)"
      ],
      "metadata": {
        "id": "Hrja6mViF4CK"
      },
      "execution_count": null,
      "outputs": []
    },
    {
      "cell_type": "code",
      "source": [
        "vectorstore.save_local(\"faiss_index\")"
      ],
      "metadata": {
        "id": "bDTfgoghOa6K"
      },
      "execution_count": null,
      "outputs": []
    },
    {
      "cell_type": "code",
      "source": [
        "embedding_model = GoogleGenerativeAIEmbeddings(\n",
        "    model=\"models/embedding-001\",\n",
        "    google_api_key=gemini_api_key\n",
        ")"
      ],
      "metadata": {
        "id": "yArA5UMCP8zt"
      },
      "execution_count": null,
      "outputs": []
    },
    {
      "cell_type": "code",
      "source": [
        "db = FAISS.load_local(\"faiss_index\", embedding_model, allow_dangerous_deserialization=True)"
      ],
      "metadata": {
        "id": "m9slXYR6Qn3i"
      },
      "execution_count": null,
      "outputs": []
    },
    {
      "cell_type": "code",
      "source": [
        "db"
      ],
      "metadata": {
        "id": "l6V_NMizRC7f"
      },
      "execution_count": null,
      "outputs": []
    }
  ]
}